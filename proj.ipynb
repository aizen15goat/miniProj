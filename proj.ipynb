version https://git-lfs.github.com/spec/v1
oid sha256:be6119a7d2050bfec447c2bc34916acacae46c202632bb6fb58130e8962221b5
size 61326
